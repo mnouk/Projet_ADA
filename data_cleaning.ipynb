{
 "cells": [
  {
   "cell_type": "code",
   "execution_count": 1,
   "metadata": {
    "collapsed": false
   },
   "outputs": [],
   "source": [
    "import pandas as pd\n",
    "import matplotlib.pyplot as plt\n",
    "import os\n",
    "import vincent"
   ]
  },
  {
   "cell_type": "markdown",
   "metadata": {},
   "source": [
    "## Data Cleaning "
   ]
  },
  {
   "cell_type": "code",
   "execution_count": 2,
   "metadata": {
    "collapsed": true
   },
   "outputs": [],
   "source": [
    "countries = ['Switzerland','United States', 'India','France', 'Italy','Australia','Singapore', 'Japan','Kenya','Brazil']"
   ]
  },
  {
   "cell_type": "code",
   "execution_count": 3,
   "metadata": {
    "collapsed": false
   },
   "outputs": [],
   "source": [
    "data = pd.DataFrame()\n",
    "\n",
    "for file in (os.listdir('raw_data/')[1:]):    \n",
    "    df = pd.read_excel('raw_data/'+ file, header=3)\n",
    "    df.set_index('Country Name', inplace=True)\n",
    "    df = df.loc[countries]\n",
    "    df = df[df.columns[0:2].append(df.columns[32:57])]\n",
    "    df.drop('Country Code', axis = 1, inplace=True)\n",
    "    data = data.append(df)\n",
    "    \n",
    "data.sort_index(inplace=True)\n",
    "data.reset_index(inplace=True)\n",
    "data.set_index( ['Country Name', 'Indicator Name'],inplace=True)\n",
    "\n",
    "for country in countries:\n",
    "    data.loc[country].transpose().to_csv('data_countries/'+country + '.csv')"
   ]
  },
  {
   "cell_type": "code",
   "execution_count": 4,
   "metadata": {
    "collapsed": false,
    "scrolled": true
   },
   "outputs": [],
   "source": [
    "for country in countries:\n",
    "    con_data = pd.read_csv('data_countries/'+country +'.csv')\n",
    "    con_data.rename( columns={'Unnamed: 0':'Year'}, inplace=True )\n",
    "    con_data['Trade in services (% of GDP)'] = con_data['Trade in services (% of GDP)']*con_data['GDP at market prices (constant 2010 US$)']/100\n",
    "    con_data['Trade (% of GDP)'] = con_data['Trade (% of GDP)']*con_data['GDP at market prices (constant 2010 US$)']/100\n",
    "    con_data['Gross domestic savings (% of GDP)'] = con_data['Gross domestic savings (% of GDP)']*con_data['GDP at market prices (constant 2010 US$)']/100\n",
    "    con_data.set_index('Year', inplace=True)\n",
    "    con_data.rename( columns={'Gross domestic savings (% of GDP)': 'Gross domestic savings (constant 2010 US$)','Trade (% of GDP)':'Trade (constant 2010 US$)','Trade in services (% of GDP)':'Trade in services (constant 2010 US$)'}, inplace=True )\n",
    "    con_data[['Household final consumption expenditure per capita (% change)','Trade in services (% change)','Electric power consumption (% change)','Foreign direct investment, net inflows (% change)','Gross domestic savings (% change)','GNI per capita (% change)','Cost to import (% change)','Trade (% change)','GDP per capita (% change)']]=con_data[['Household final consumption expenditure per capita (constant 2010 US$)','Trade in services (constant 2010 US$)','Electric power consumption (kWh per capita)','Foreign direct investment, net inflows (BoP, current US$)','Gross domestic savings (constant 2010 US$)','GNI per capita (constant 2010 US$)','Cost to import (US$ per container)','Trade (constant 2010 US$)','GDP per capita (constant 2010 US$)']].pct_change()*100 \n",
    "    con_data.drop(['GDP at market prices (constant 2010 US$)'], axis=1, inplace=True)\n",
    "    con_data['Inflation, consumer prices (annual %)']=con_data['Inflation, consumer prices (annual %)'].shift(+1)\n",
    "    con_data.drop( 1989, inplace = True)\n",
    "    con_data = con_data.apply(lambda x: round(x,2), axis=1) \n",
    "    con_data.to_csv('data_countries/'+country+'.csv')"
   ]
  },
  {
   "cell_type": "code",
   "execution_count": 5,
   "metadata": {
    "collapsed": false,
    "scrolled": true
   },
   "outputs": [],
   "source": [
    "full_df = pd.DataFrame()\n",
    "for country in countries:\n",
    "    con_df = pd.read_csv('data_countries/'+country+'.csv')\n",
    "    con_df['Country'] = country\n",
    "    full_df = full_df.append(con_df)\n",
    "full_df.set_index(['Country','Year'], inplace=True)\n",
    "full_df.sort_index(inplace=True)\n",
    "full_df.to_csv('data_countries/0_Data_All_Countries.csv')"
   ]
  },
  {
   "cell_type": "code",
   "execution_count": 6,
   "metadata": {
    "collapsed": false
   },
   "outputs": [
    {
     "data": {
      "text/plain": [
       "Index(['Cost to import (% change)', 'Cost to import (US$ per container)',\n",
       "       'Deposit interest rate (%)', 'Electric power consumption (% change)',\n",
       "       'Electric power consumption (kWh per capita)',\n",
       "       'Foreign direct investment, net inflows (% change)',\n",
       "       'Foreign direct investment, net inflows (BoP, current US$)',\n",
       "       'GDP per capita (% change)', 'GDP per capita (constant 2010 US$)',\n",
       "       'GNI per capita (% change)', 'GNI per capita (constant 2010 US$)',\n",
       "       'Gross domestic savings (% change)',\n",
       "       'Gross domestic savings (constant 2010 US$)',\n",
       "       'Household final consumption expenditure per capita (% change)',\n",
       "       'Household final consumption expenditure per capita (constant 2010 US$)',\n",
       "       'Inflation, consumer prices (annual %)', 'Lending interest rate (%)',\n",
       "       'Life expectancy at birth, total (years)',\n",
       "       'Merchandise imports from high-income economies (% of total merchandise imports)',\n",
       "       'Trade (% change)', 'Trade (constant 2010 US$)',\n",
       "       'Trade in services (% change)', 'Trade in services (constant 2010 US$)',\n",
       "       'Unemployment, total (% of total labor force) (national estimate)'],\n",
       "      dtype='object')"
      ]
     },
     "execution_count": 6,
     "metadata": {},
     "output_type": "execute_result"
    }
   ],
   "source": [
    "full_df.columns"
   ]
  },
  {
   "cell_type": "code",
   "execution_count": 7,
   "metadata": {
    "collapsed": false
   },
   "outputs": [
    {
     "data": {
      "text/plain": [
       "-0.49192566792491527"
      ]
     },
     "execution_count": 7,
     "metadata": {},
     "output_type": "execute_result"
    }
   ],
   "source": [
    "full_df.loc['Switzerland']['Inflation, consumer prices (annual %)'].corr(full_df.loc['Switzerland']['Household final consumption expenditure per capita (% change)'])"
   ]
  },
  {
   "cell_type": "code",
   "execution_count": 8,
   "metadata": {
    "collapsed": false
   },
   "outputs": [
    {
     "data": {
      "text/plain": [
       "-0.3864926628058557"
      ]
     },
     "execution_count": 8,
     "metadata": {},
     "output_type": "execute_result"
    }
   ],
   "source": [
    "full_df.loc['United States']['Inflation, consumer prices (annual %)'].corr(full_df.loc['United States']['Household final consumption expenditure per capita (% change)'])"
   ]
  },
  {
   "cell_type": "code",
   "execution_count": 9,
   "metadata": {
    "collapsed": false
   },
   "outputs": [
    {
     "data": {
      "text/plain": [
       "0.022604440236969666"
      ]
     },
     "execution_count": 9,
     "metadata": {},
     "output_type": "execute_result"
    }
   ],
   "source": [
    "full_df.loc['India']['Inflation, consumer prices (annual %)'].corr(full_df.loc['India']['Household final consumption expenditure per capita (% change)'])"
   ]
  },
  {
   "cell_type": "code",
   "execution_count": 10,
   "metadata": {
    "collapsed": false
   },
   "outputs": [
    {
     "data": {
      "text/plain": [
       "-0.30108446661214938"
      ]
     },
     "execution_count": 10,
     "metadata": {},
     "output_type": "execute_result"
    }
   ],
   "source": [
    "full_df.loc['Australia']['Inflation, consumer prices (annual %)'].corr(full_df.loc['Australia']['Household final consumption expenditure per capita (% change)'])"
   ]
  },
  {
   "cell_type": "code",
   "execution_count": 11,
   "metadata": {
    "collapsed": false
   },
   "outputs": [
    {
     "data": {
      "text/plain": [
       "-0.42224554021790467"
      ]
     },
     "execution_count": 11,
     "metadata": {},
     "output_type": "execute_result"
    }
   ],
   "source": [
    "full_df.loc['France']['Inflation, consumer prices (annual %)'].corr(full_df.loc['France']['Household final consumption expenditure per capita (% change)'])"
   ]
  },
  {
   "cell_type": "code",
   "execution_count": 12,
   "metadata": {
    "collapsed": false
   },
   "outputs": [
    {
     "data": {
      "text/plain": [
       "0.12747205455931818"
      ]
     },
     "execution_count": 12,
     "metadata": {},
     "output_type": "execute_result"
    }
   ],
   "source": [
    "full_df.loc['Italy']['Inflation, consumer prices (annual %)'].corr(full_df.loc['Italy']['Household final consumption expenditure per capita (% change)'])"
   ]
  },
  {
   "cell_type": "code",
   "execution_count": 13,
   "metadata": {
    "collapsed": false
   },
   "outputs": [
    {
     "data": {
      "text/plain": [
       "-0.45939906617539256"
      ]
     },
     "execution_count": 13,
     "metadata": {},
     "output_type": "execute_result"
    }
   ],
   "source": [
    "full_df.loc['Singapore']['Inflation, consumer prices (annual %)'].corr(full_df.loc['Singapore']['Household final consumption expenditure per capita (% change)'])"
   ]
  },
  {
   "cell_type": "code",
   "execution_count": 14,
   "metadata": {
    "collapsed": false
   },
   "outputs": [
    {
     "data": {
      "text/plain": [
       "0.15455903329104417"
      ]
     },
     "execution_count": 14,
     "metadata": {},
     "output_type": "execute_result"
    }
   ],
   "source": [
    "full_df.loc['Japan']['Inflation, consumer prices (annual %)'].corr(full_df.loc['Japan']['Household final consumption expenditure per capita (% change)'])"
   ]
  },
  {
   "cell_type": "code",
   "execution_count": 15,
   "metadata": {
    "collapsed": false
   },
   "outputs": [
    {
     "data": {
      "text/plain": [
       "-0.017945410253291546"
      ]
     },
     "execution_count": 15,
     "metadata": {},
     "output_type": "execute_result"
    }
   ],
   "source": [
    "full_df.loc['Kenya']['Inflation, consumer prices (annual %)'].corr(full_df.loc['Kenya']['Household final consumption expenditure per capita (% change)'])"
   ]
  },
  {
   "cell_type": "code",
   "execution_count": 16,
   "metadata": {
    "collapsed": false
   },
   "outputs": [
    {
     "data": {
      "text/plain": [
       "0.46659529477574857"
      ]
     },
     "execution_count": 16,
     "metadata": {},
     "output_type": "execute_result"
    }
   ],
   "source": [
    "full_df.loc['Brazil']['Inflation, consumer prices (annual %)'].corr(full_df.loc['Brazil']['Household final consumption expenditure per capita (% change)'])"
   ]
  },
  {
   "cell_type": "markdown",
   "metadata": {},
   "source": [
    "# PLOTTING"
   ]
  },
  {
   "cell_type": "code",
   "execution_count": 2,
   "metadata": {
    "collapsed": false
   },
   "outputs": [],
   "source": [
    "full_df = pd.read_csv('data_countries/0_Data_All_Countries.csv', index_col=['Country', 'Year'])"
   ]
  },
  {
   "cell_type": "code",
   "execution_count": 3,
   "metadata": {
    "collapsed": false
   },
   "outputs": [
    {
     "data": {
      "text/html": [
       "\n",
       "           <script>\n",
       "               \n",
       "                function vct_load_lib(url, callback){\n",
       "                      if(typeof d3 !== 'undefined' &&\n",
       "                         url === 'http://d3js.org/d3.v3.min.js'){\n",
       "                        callback()\n",
       "                      }\n",
       "                      var s = document.createElement('script');\n",
       "                      s.src = url;\n",
       "                      s.async = true;\n",
       "                      s.onreadystatechange = s.onload = callback;\n",
       "                      s.onerror = function(){\n",
       "                        console.warn(\"failed to load library \" + url);\n",
       "                        };\n",
       "                      document.getElementsByTagName(\"head\")[0].appendChild(s);\n",
       "                };\n",
       "                var vincent_event = new CustomEvent(\n",
       "                  \"vincent_libs_loaded\",\n",
       "                  {bubbles: true, cancelable: true}\n",
       "                );\n",
       "                \n",
       "               function load_all_libs(){\n",
       "                  console.log('Loading Vincent libs...')\n",
       "                  vct_load_lib('http://d3js.org/d3.v3.min.js', function(){\n",
       "                  vct_load_lib('http://d3js.org/d3.geo.projection.v0.min.js', function(){\n",
       "                  vct_load_lib('http://wrobstory.github.io/d3-cloud/d3.layout.cloud.js', function(){\n",
       "                  vct_load_lib('http://wrobstory.github.io/vega/vega.v1.3.3.js', function(){\n",
       "                  window.dispatchEvent(vincent_event);\n",
       "                  });\n",
       "                  });\n",
       "                  });\n",
       "                  });\n",
       "               };\n",
       "               if(typeof define === \"function\" && define.amd){\n",
       "                    if (window['d3'] === undefined ||\n",
       "                        window['topojson'] === undefined){\n",
       "                        require.config(\n",
       "                            {paths: {\n",
       "                              d3: 'http://d3js.org/d3.v3.min',\n",
       "                              topojson: 'http://d3js.org/topojson.v1.min'\n",
       "                              }\n",
       "                            }\n",
       "                          );\n",
       "                        require([\"d3\"], function(d3){\n",
       "                            console.log('Loading Vincent from require.js...')\n",
       "                            window.d3 = d3;\n",
       "                            require([\"topojson\"], function(topojson){\n",
       "                                window.topojson = topojson;\n",
       "                                load_all_libs();\n",
       "                            });\n",
       "                        });\n",
       "                    } else {\n",
       "                        load_all_libs();\n",
       "                    };\n",
       "               }else{\n",
       "                    console.log('Require.js not found, loading manually...')\n",
       "                    load_all_libs();\n",
       "               };\n",
       "\n",
       "           </script>"
      ],
      "text/plain": [
       "<IPython.core.display.HTML object>"
      ]
     },
     "metadata": {},
     "output_type": "display_data"
    }
   ],
   "source": [
    "vincent.core.initialize_notebook()"
   ]
  },
  {
   "cell_type": "code",
   "execution_count": 4,
   "metadata": {
    "collapsed": false,
    "scrolled": false
   },
   "outputs": [
    {
     "data": {
      "text/html": [
       "<div id=\"vis721c712999a546278023b22fa22b6228\"></div>\n",
       "<script>\n",
       "   ( function() {\n",
       "     var _do_plot = function() {\n",
       "       if (typeof vg === 'undefined') {\n",
       "         window.addEventListener('vincent_libs_loaded', _do_plot)\n",
       "         return;\n",
       "       }\n",
       "       vg.parse.spec({\"axes\": [{\"scale\": \"x\", \"title\": \"year\", \"type\": \"x\"}, {\"scale\": \"y\", \"title\": \"Percentage\", \"type\": \"y\"}], \"data\": [{\"name\": \"table\", \"values\": [{\"col\": \"Household final consumption expenditure per capita (% change)\", \"idx\": 1990, \"val\": 2.64}, {\"col\": \"Inflation, consumer prices (annual %)\", \"idx\": 1990, \"val\": 7.56}, {\"col\": \"GDP per capita (% change)\", \"idx\": 1990, \"val\": 2.01}, {\"col\": \"Household final consumption expenditure per capita (% change)\", \"idx\": 1991, \"val\": -0.21}, {\"col\": \"Inflation, consumer prices (annual %)\", \"idx\": 1991, \"val\": 7.27}, {\"col\": \"GDP per capita (% change)\", \"idx\": 1991, \"val\": -1.64}, {\"col\": \"Household final consumption expenditure per capita (% change)\", \"idx\": 1992, \"val\": 1.13}, {\"col\": \"Inflation, consumer prices (annual %)\", \"idx\": 1992, \"val\": 3.22}, {\"col\": \"GDP per capita (% change)\", \"idx\": 1992, \"val\": -0.81}, {\"col\": \"Household final consumption expenditure per capita (% change)\", \"idx\": 1993, \"val\": 0.94}, {\"col\": \"Inflation, consumer prices (annual %)\", \"idx\": 1993, \"val\": 0.99}, {\"col\": \"GDP per capita (% change)\", \"idx\": 1993, \"val\": 3.05}, {\"col\": \"Household final consumption expenditure per capita (% change)\", \"idx\": 1994, \"val\": 1.33}, {\"col\": \"Inflation, consumer prices (annual %)\", \"idx\": 1994, \"val\": 1.81}, {\"col\": \"GDP per capita (% change)\", \"idx\": 1994, \"val\": 2.94}, {\"col\": \"Household final consumption expenditure per capita (% change)\", \"idx\": 1995, \"val\": 3.36}, {\"col\": \"Inflation, consumer prices (annual %)\", \"idx\": 1995, \"val\": 1.89}, {\"col\": \"GDP per capita (% change)\", \"idx\": 1995, \"val\": 2.63}, {\"col\": \"Household final consumption expenditure per capita (% change)\", \"idx\": 1996, \"val\": 1.94}, {\"col\": \"Inflation, consumer prices (annual %)\", \"idx\": 1996, \"val\": 4.64}, {\"col\": \"GDP per capita (% change)\", \"idx\": 1996, \"val\": 2.59}, {\"col\": \"Household final consumption expenditure per capita (% change)\", \"idx\": 1997, \"val\": 1.8}, {\"col\": \"Inflation, consumer prices (annual %)\", \"idx\": 1997, \"val\": 2.61}, {\"col\": \"GDP per capita (% change)\", \"idx\": 1997, \"val\": 2.79}, {\"col\": \"Household final consumption expenditure per capita (% change)\", \"idx\": 1998, \"val\": 3.8}, {\"col\": \"Inflation, consumer prices (annual %)\", \"idx\": 1998, \"val\": 0.25}, {\"col\": \"GDP per capita (% change)\", \"idx\": 1998, \"val\": 3.36}, {\"col\": \"Household final consumption expenditure per capita (% change)\", \"idx\": 1999, \"val\": 4.26}, {\"col\": \"Inflation, consumer prices (annual %)\", \"idx\": 1999, \"val\": 0.85}, {\"col\": \"GDP per capita (% change)\", \"idx\": 1999, \"val\": 3.81}, {\"col\": \"Household final consumption expenditure per capita (% change)\", \"idx\": 2000, \"val\": 2.9}, {\"col\": \"Inflation, consumer prices (annual %)\", \"idx\": 2000, \"val\": 1.47}, {\"col\": \"GDP per capita (% change)\", \"idx\": 2000, \"val\": 2.64}, {\"col\": \"Household final consumption expenditure per capita (% change)\", \"idx\": 2001, \"val\": 1.9}, {\"col\": \"Inflation, consumer prices (annual %)\", \"idx\": 2001, \"val\": 4.48}, {\"col\": \"GDP per capita (% change)\", \"idx\": 2001, \"val\": 0.56}, {\"col\": \"Household final consumption expenditure per capita (% change)\", \"idx\": 2002, \"val\": 1.84}, {\"col\": \"Inflation, consumer prices (annual %)\", \"idx\": 2002, \"val\": 4.38}, {\"col\": \"GDP per capita (% change)\", \"idx\": 2002, \"val\": 2.6}, {\"col\": \"Household final consumption expenditure per capita (% change)\", \"idx\": 2003, \"val\": 3.0}, {\"col\": \"Inflation, consumer prices (annual %)\", \"idx\": 2003, \"val\": 3.0}, {\"col\": \"GDP per capita (% change)\", \"idx\": 2003, \"val\": 1.81}, {\"col\": \"Household final consumption expenditure per capita (% change)\", \"idx\": 2004, \"val\": 3.93}, {\"col\": \"Inflation, consumer prices (annual %)\", \"idx\": 2004, \"val\": 2.77}, {\"col\": \"GDP per capita (% change)\", \"idx\": 2004, \"val\": 2.95}, {\"col\": \"Household final consumption expenditure per capita (% change)\", \"idx\": 2005, \"val\": 3.14}, {\"col\": \"Inflation, consumer prices (annual %)\", \"idx\": 2005, \"val\": 2.34}, {\"col\": \"GDP per capita (% change)\", \"idx\": 2005, \"val\": 1.85}, {\"col\": \"Household final consumption expenditure per capita (% change)\", \"idx\": 2006, \"val\": 1.64}, {\"col\": \"Inflation, consumer prices (annual %)\", \"idx\": 2006, \"val\": 2.67}, {\"col\": \"GDP per capita (% change)\", \"idx\": 2006, \"val\": 1.47}, {\"col\": \"Household final consumption expenditure per capita (% change)\", \"idx\": 2007, \"val\": 4.12}, {\"col\": \"Inflation, consumer prices (annual %)\", \"idx\": 2007, \"val\": 3.54}, {\"col\": \"GDP per capita (% change)\", \"idx\": 2007, \"val\": 3.11}, {\"col\": \"Household final consumption expenditure per capita (% change)\", \"idx\": 2008, \"val\": 2.65}, {\"col\": \"Inflation, consumer prices (annual %)\", \"idx\": 2008, \"val\": 2.33}, {\"col\": \"GDP per capita (% change)\", \"idx\": 2008, \"val\": 1.65}, {\"col\": \"Household final consumption expenditure per capita (% change)\", \"idx\": 2009, \"val\": -1.74}, {\"col\": \"Inflation, consumer prices (annual %)\", \"idx\": 2009, \"val\": 4.35}, {\"col\": \"GDP per capita (% change)\", \"idx\": 2009, \"val\": -0.26}, {\"col\": \"Household final consumption expenditure per capita (% change)\", \"idx\": 2010, \"val\": 0.7}, {\"col\": \"Inflation, consumer prices (annual %)\", \"idx\": 2010, \"val\": 1.82}, {\"col\": \"GDP per capita (% change)\", \"idx\": 2010, \"val\": 0.44}, {\"col\": \"Household final consumption expenditure per capita (% change)\", \"idx\": 2011, \"val\": 2.38}, {\"col\": \"Inflation, consumer prices (annual %)\", \"idx\": 2011, \"val\": 2.85}, {\"col\": \"GDP per capita (% change)\", \"idx\": 2011, \"val\": 0.97}, {\"col\": \"Household final consumption expenditure per capita (% change)\", \"idx\": 2012, \"val\": 0.82}, {\"col\": \"Inflation, consumer prices (annual %)\", \"idx\": 2012, \"val\": 3.3}, {\"col\": \"GDP per capita (% change)\", \"idx\": 2012, \"val\": 1.86}, {\"col\": \"Household final consumption expenditure per capita (% change)\", \"idx\": 2013, \"val\": -0.13}, {\"col\": \"Inflation, consumer prices (annual %)\", \"idx\": 2013, \"val\": 1.76}, {\"col\": \"GDP per capita (% change)\", \"idx\": 2013, \"val\": 0.72}]}], \"height\": 170, \"legends\": [{\"fill\": \"color\", \"offset\": 0, \"properties\": {}, \"title\": \"Index\"}], \"marks\": [{\"from\": {\"data\": \"table\", \"transform\": [{\"keys\": [\"data.idx\"], \"type\": \"facet\"}]}, \"marks\": [{\"properties\": {\"enter\": {\"fill\": {\"field\": \"data.col\", \"scale\": \"color\"}, \"width\": {\"band\": true, \"offset\": -1, \"scale\": \"pos\"}, \"x\": {\"field\": \"data.col\", \"scale\": \"pos\"}, \"y\": {\"field\": \"data.val\", \"scale\": \"y\"}, \"y2\": {\"scale\": \"y\", \"value\": 0}}}, \"type\": \"rect\"}], \"properties\": {\"enter\": {\"width\": {\"band\": true, \"scale\": \"x\"}, \"x\": {\"field\": \"key\", \"scale\": \"x\"}}}, \"scales\": [{\"domain\": {\"field\": \"data.col\"}, \"name\": \"pos\", \"range\": \"width\", \"type\": \"ordinal\"}], \"type\": \"group\"}], \"name\": \"Australia\", \"padding\": \"auto\", \"scales\": [{\"domain\": {\"data\": \"table\", \"field\": \"data.idx\"}, \"name\": \"x\", \"padding\": 0.2, \"range\": \"width\", \"type\": \"ordinal\"}, {\"domain\": {\"data\": \"table\", \"field\": \"data.val\"}, \"name\": \"y\", \"nice\": true, \"range\": \"height\"}, {\"domain\": {\"data\": \"table\", \"field\": \"data.col\"}, \"name\": \"color\", \"range\": [\"#fbb4ae\", \"#b3cde3\", \"#ccebc5\", \"#decbe4\", \"#fed9a6\", \"#ffffcc\", \"#e5d8bd\", \"#fddaec\", \"#f2f2f2\"], \"type\": \"ordinal\"}], \"width\": 700}, function(chart) {\n",
       "         chart({el: \"#vis721c712999a546278023b22fa22b6228\"}).update();\n",
       "       });\n",
       "     };\n",
       "     _do_plot();\n",
       "   })();\n",
       "</script>\n",
       "<style>.vega canvas {width: 100%;}</style>\n",
       "        "
      ],
      "text/plain": [
       "<IPython.core.display.HTML object>"
      ]
     },
     "metadata": {},
     "output_type": "display_data"
    },
    {
     "data": {
      "text/html": [
       "<div id=\"vis459e8bbd737e412f97feecb1f76ca092\"></div>\n",
       "<script>\n",
       "   ( function() {\n",
       "     var _do_plot = function() {\n",
       "       if (typeof vg === 'undefined') {\n",
       "         window.addEventListener('vincent_libs_loaded', _do_plot)\n",
       "         return;\n",
       "       }\n",
       "       vg.parse.spec({\"axes\": [{\"scale\": \"x\", \"title\": \"year\", \"type\": \"x\"}, {\"scale\": \"y\", \"title\": \"Percentage\", \"type\": \"y\"}], \"data\": [{\"name\": \"table\", \"values\": [{\"col\": \"Household final consumption expenditure per capita (% change)\", \"idx\": 1990, \"val\": 2.32}, {\"col\": \"Inflation, consumer prices (annual %)\", \"idx\": 1990, \"val\": 3.26}, {\"col\": \"GDP per capita (% change)\", \"idx\": 1990, \"val\": 3.37}, {\"col\": \"Household final consumption expenditure per capita (% change)\", \"idx\": 1991, \"val\": 0.1}, {\"col\": \"Inflation, consumer prices (annual %)\", \"idx\": 1991, \"val\": 8.97}, {\"col\": \"GDP per capita (% change)\", \"idx\": 1991, \"val\": -0.98}, {\"col\": \"Household final consumption expenditure per capita (% change)\", \"idx\": 1992, \"val\": 0.55}, {\"col\": \"Inflation, consumer prices (annual %)\", \"idx\": 1992, \"val\": 13.87}, {\"col\": \"GDP per capita (% change)\", \"idx\": 1992, \"val\": 3.39}, {\"col\": \"Household final consumption expenditure per capita (% change)\", \"idx\": 1993, \"val\": 2.31}, {\"col\": \"Inflation, consumer prices (annual %)\", \"idx\": 1993, \"val\": 11.79}, {\"col\": \"GDP per capita (% change)\", \"idx\": 1993, \"val\": 2.71}, {\"col\": \"Household final consumption expenditure per capita (% change)\", \"idx\": 1994, \"val\": 2.84}, {\"col\": \"Inflation, consumer prices (annual %)\", \"idx\": 1994, \"val\": 6.36}, {\"col\": \"GDP per capita (% change)\", \"idx\": 1994, \"val\": 4.61}, {\"col\": \"Household final consumption expenditure per capita (% change)\", \"idx\": 1995, \"val\": 4.07}, {\"col\": \"Inflation, consumer prices (annual %)\", \"idx\": 1995, \"val\": 10.21}, {\"col\": \"GDP per capita (% change)\", \"idx\": 1995, \"val\": 5.53}, {\"col\": \"Household final consumption expenditure per capita (% change)\", \"idx\": 1996, \"val\": 5.75}, {\"col\": \"Inflation, consumer prices (annual %)\", \"idx\": 1996, \"val\": 10.22}, {\"col\": \"GDP per capita (% change)\", \"idx\": 1996, \"val\": 5.53}, {\"col\": \"Household final consumption expenditure per capita (% change)\", \"idx\": 1997, \"val\": 1.08}, {\"col\": \"Inflation, consumer prices (annual %)\", \"idx\": 1997, \"val\": 8.98}, {\"col\": \"GDP per capita (% change)\", \"idx\": 1997, \"val\": 2.12}, {\"col\": \"Household final consumption expenditure per capita (% change)\", \"idx\": 1998, \"val\": 4.55}, {\"col\": \"Inflation, consumer prices (annual %)\", \"idx\": 1998, \"val\": 7.16}, {\"col\": \"GDP per capita (% change)\", \"idx\": 1998, \"val\": 4.24}, {\"col\": \"Household final consumption expenditure per capita (% change)\", \"idx\": 1999, \"val\": 4.18}, {\"col\": \"Inflation, consumer prices (annual %)\", \"idx\": 1999, \"val\": 13.23}, {\"col\": \"GDP per capita (% change)\", \"idx\": 1999, \"val\": 6.89}, {\"col\": \"Household final consumption expenditure per capita (% change)\", \"idx\": 2000, \"val\": 1.62}, {\"col\": \"Inflation, consumer prices (annual %)\", \"idx\": 2000, \"val\": 4.67}, {\"col\": \"GDP per capita (% change)\", \"idx\": 2000, \"val\": 2.02}, {\"col\": \"Household final consumption expenditure per capita (% change)\", \"idx\": 2001, \"val\": 4.13}, {\"col\": \"Inflation, consumer prices (annual %)\", \"idx\": 2001, \"val\": 4.01}, {\"col\": \"GDP per capita (% change)\", \"idx\": 2001, \"val\": 3.02}, {\"col\": \"Household final consumption expenditure per capita (% change)\", \"idx\": 2002, \"val\": 1.14}, {\"col\": \"Inflation, consumer prices (annual %)\", \"idx\": 2002, \"val\": 3.68}, {\"col\": \"GDP per capita (% change)\", \"idx\": 2002, \"val\": 2.06}, {\"col\": \"Household final consumption expenditure per capita (% change)\", \"idx\": 2003, \"val\": 4.19}, {\"col\": \"Inflation, consumer prices (annual %)\", \"idx\": 2003, \"val\": 4.39}, {\"col\": \"GDP per capita (% change)\", \"idx\": 2003, \"val\": 6.09}, {\"col\": \"Household final consumption expenditure per capita (% change)\", \"idx\": 2004, \"val\": 3.49}, {\"col\": \"Inflation, consumer prices (annual %)\", \"idx\": 2004, \"val\": 3.81}, {\"col\": \"GDP per capita (% change)\", \"idx\": 2004, \"val\": 6.19}, {\"col\": \"Household final consumption expenditure per capita (% change)\", \"idx\": 2005, \"val\": 6.95}, {\"col\": \"Inflation, consumer prices (annual %)\", \"idx\": 2005, \"val\": 3.77}, {\"col\": \"GDP per capita (% change)\", \"idx\": 2005, \"val\": 7.57}, {\"col\": \"Household final consumption expenditure per capita (% change)\", \"idx\": 2006, \"val\": 6.82}, {\"col\": \"Inflation, consumer prices (annual %)\", \"idx\": 2006, \"val\": 4.25}, {\"col\": \"GDP per capita (% change)\", \"idx\": 2006, \"val\": 7.59}, {\"col\": \"Household final consumption expenditure per capita (% change)\", \"idx\": 2007, \"val\": 3.95}, {\"col\": \"Inflation, consumer prices (annual %)\", \"idx\": 2007, \"val\": 6.15}, {\"col\": \"GDP per capita (% change)\", \"idx\": 2007, \"val\": 6.99}, {\"col\": \"Household final consumption expenditure per capita (% change)\", \"idx\": 2008, \"val\": 5.62}, {\"col\": \"Inflation, consumer prices (annual %)\", \"idx\": 2008, \"val\": 6.37}, {\"col\": \"GDP per capita (% change)\", \"idx\": 2008, \"val\": 2.38}, {\"col\": \"Household final consumption expenditure per capita (% change)\", \"idx\": 2009, \"val\": 5.8}, {\"col\": \"Inflation, consumer prices (annual %)\", \"idx\": 2009, \"val\": 8.35}, {\"col\": \"GDP per capita (% change)\", \"idx\": 2009, \"val\": 6.95}, {\"col\": \"Household final consumption expenditure per capita (% change)\", \"idx\": 2010, \"val\": 7.23}, {\"col\": \"Inflation, consumer prices (annual %)\", \"idx\": 2010, \"val\": 10.88}, {\"col\": \"GDP per capita (% change)\", \"idx\": 2010, \"val\": 8.75}, {\"col\": \"Household final consumption expenditure per capita (% change)\", \"idx\": 2011, \"val\": 7.84}, {\"col\": \"Inflation, consumer prices (annual %)\", \"idx\": 2011, \"val\": 11.99}, {\"col\": \"GDP per capita (% change)\", \"idx\": 2011, \"val\": 5.23}, {\"col\": \"Household final consumption expenditure per capita (% change)\", \"idx\": 2012, \"val\": 3.95}, {\"col\": \"Inflation, consumer prices (annual %)\", \"idx\": 2012, \"val\": 8.86}, {\"col\": \"GDP per capita (% change)\", \"idx\": 2012, \"val\": 4.27}, {\"col\": \"Household final consumption expenditure per capita (% change)\", \"idx\": 2013, \"val\": 5.44}, {\"col\": \"Inflation, consumer prices (annual %)\", \"idx\": 2013, \"val\": 9.31}, {\"col\": \"GDP per capita (% change)\", \"idx\": 2013, \"val\": 5.31}]}], \"height\": 170, \"legends\": [{\"fill\": \"color\", \"offset\": 0, \"properties\": {}, \"title\": \"Index\"}], \"marks\": [{\"from\": {\"data\": \"table\", \"transform\": [{\"keys\": [\"data.idx\"], \"type\": \"facet\"}]}, \"marks\": [{\"properties\": {\"enter\": {\"fill\": {\"field\": \"data.col\", \"scale\": \"color\"}, \"width\": {\"band\": true, \"offset\": -1, \"scale\": \"pos\"}, \"x\": {\"field\": \"data.col\", \"scale\": \"pos\"}, \"y\": {\"field\": \"data.val\", \"scale\": \"y\"}, \"y2\": {\"scale\": \"y\", \"value\": 0}}}, \"type\": \"rect\"}], \"properties\": {\"enter\": {\"width\": {\"band\": true, \"scale\": \"x\"}, \"x\": {\"field\": \"key\", \"scale\": \"x\"}}}, \"scales\": [{\"domain\": {\"field\": \"data.col\"}, \"name\": \"pos\", \"range\": \"width\", \"type\": \"ordinal\"}], \"type\": \"group\"}], \"name\": \"India\", \"padding\": \"auto\", \"scales\": [{\"domain\": {\"data\": \"table\", \"field\": \"data.idx\"}, \"name\": \"x\", \"padding\": 0.2, \"range\": \"width\", \"type\": \"ordinal\"}, {\"domain\": {\"data\": \"table\", \"field\": \"data.val\"}, \"name\": \"y\", \"nice\": true, \"range\": \"height\"}, {\"domain\": {\"data\": \"table\", \"field\": \"data.col\"}, \"name\": \"color\", \"range\": [\"#fbb4ae\", \"#b3cde3\", \"#ccebc5\", \"#decbe4\", \"#fed9a6\", \"#ffffcc\", \"#e5d8bd\", \"#fddaec\", \"#f2f2f2\"], \"type\": \"ordinal\"}], \"width\": 700}, function(chart) {\n",
       "         chart({el: \"#vis459e8bbd737e412f97feecb1f76ca092\"}).update();\n",
       "       });\n",
       "     };\n",
       "     _do_plot();\n",
       "   })();\n",
       "</script>\n",
       "<style>.vega canvas {width: 100%;}</style>\n",
       "        "
      ],
      "text/plain": [
       "<IPython.core.display.HTML object>"
      ]
     },
     "metadata": {},
     "output_type": "display_data"
    },
    {
     "data": {
      "text/html": [
       "<div id=\"vis5259d1160e13410c8f5ae36b08fa3485\"></div>\n",
       "<script>\n",
       "   ( function() {\n",
       "     var _do_plot = function() {\n",
       "       if (typeof vg === 'undefined') {\n",
       "         window.addEventListener('vincent_libs_loaded', _do_plot)\n",
       "         return;\n",
       "       }\n",
       "       vg.parse.spec({\"axes\": [{\"scale\": \"x\", \"title\": \"year\", \"type\": \"x\"}, {\"scale\": \"y\", \"title\": \"Percentage\", \"type\": \"y\"}], \"data\": [{\"name\": \"table\", \"values\": [{\"col\": \"Household final consumption expenditure per capita (% change)\", \"idx\": 1990, \"val\": 0.54}, {\"col\": \"Inflation, consumer prices (annual %)\", \"idx\": 1990, \"val\": 3.16}, {\"col\": \"GDP per capita (% change)\", \"idx\": 1990, \"val\": 2.62}, {\"col\": \"Household final consumption expenditure per capita (% change)\", \"idx\": 1991, \"val\": 0.56}, {\"col\": \"Inflation, consumer prices (annual %)\", \"idx\": 1991, \"val\": 5.38}, {\"col\": \"GDP per capita (% change)\", \"idx\": 1991, \"val\": -2.15}, {\"col\": \"Household final consumption expenditure per capita (% change)\", \"idx\": 1992, \"val\": -0.63}, {\"col\": \"Inflation, consumer prices (annual %)\", \"idx\": 1992, \"val\": 5.88}, {\"col\": \"GDP per capita (% change)\", \"idx\": 1992, \"val\": -1.14}, {\"col\": \"Household final consumption expenditure per capita (% change)\", \"idx\": 1993, \"val\": -1.27}, {\"col\": \"Inflation, consumer prices (annual %)\", \"idx\": 1993, \"val\": 4.04}, {\"col\": \"GDP per capita (% change)\", \"idx\": 1993, \"val\": -1.03}, {\"col\": \"Household final consumption expenditure per capita (% change)\", \"idx\": 1994, \"val\": 0.42}, {\"col\": \"Inflation, consumer prices (annual %)\", \"idx\": 1994, \"val\": 3.27}, {\"col\": \"GDP per capita (% change)\", \"idx\": 1994, \"val\": 0.47}, {\"col\": \"Household final consumption expenditure per capita (% change)\", \"idx\": 1995, \"val\": 0.21}, {\"col\": \"Inflation, consumer prices (annual %)\", \"idx\": 1995, \"val\": 0.86}, {\"col\": \"GDP per capita (% change)\", \"idx\": 1995, \"val\": -0.19}, {\"col\": \"Household final consumption expenditure per capita (% change)\", \"idx\": 1996, \"val\": 0.64}, {\"col\": \"Inflation, consumer prices (annual %)\", \"idx\": 1996, \"val\": 1.8}, {\"col\": \"GDP per capita (% change)\", \"idx\": 1996, \"val\": 0.16}, {\"col\": \"Household final consumption expenditure per capita (% change)\", \"idx\": 1997, \"val\": 1.37}, {\"col\": \"Inflation, consumer prices (annual %)\", \"idx\": 1997, \"val\": 0.82}, {\"col\": \"GDP per capita (% change)\", \"idx\": 1997, \"val\": 2.07}, {\"col\": \"Household final consumption expenditure per capita (% change)\", \"idx\": 1998, \"val\": 1.86}, {\"col\": \"Inflation, consumer prices (annual %)\", \"idx\": 1998, \"val\": 0.52}, {\"col\": \"GDP per capita (% change)\", \"idx\": 1998, \"val\": 2.64}, {\"col\": \"Household final consumption expenditure per capita (% change)\", \"idx\": 1999, \"val\": 1.54}, {\"col\": \"Inflation, consumer prices (annual %)\", \"idx\": 1999, \"val\": 0.02}, {\"col\": \"GDP per capita (% change)\", \"idx\": 1999, \"val\": 1.16}, {\"col\": \"Household final consumption expenditure per capita (% change)\", \"idx\": 2000, \"val\": 1.2}, {\"col\": \"Inflation, consumer prices (annual %)\", \"idx\": 2000, \"val\": 0.82}, {\"col\": \"GDP per capita (% change)\", \"idx\": 2000, \"val\": 3.36}, {\"col\": \"Household final consumption expenditure per capita (% change)\", \"idx\": 2001, \"val\": 1.49}, {\"col\": \"Inflation, consumer prices (annual %)\", \"idx\": 2001, \"val\": 1.54}, {\"col\": \"GDP per capita (% change)\", \"idx\": 2001, \"val\": 0.81}, {\"col\": \"Household final consumption expenditure per capita (% change)\", \"idx\": 2002, \"val\": -0.42}, {\"col\": \"Inflation, consumer prices (annual %)\", \"idx\": 2002, \"val\": 0.99}, {\"col\": \"GDP per capita (% change)\", \"idx\": 2002, \"val\": -0.61}, {\"col\": \"Household final consumption expenditure per capita (% change)\", \"idx\": 2003, \"val\": -0.32}, {\"col\": \"Inflation, consumer prices (annual %)\", \"idx\": 2003, \"val\": 0.64}, {\"col\": \"GDP per capita (% change)\", \"idx\": 2003, \"val\": -0.69}, {\"col\": \"Household final consumption expenditure per capita (% change)\", \"idx\": 2004, \"val\": 1.12}, {\"col\": \"Inflation, consumer prices (annual %)\", \"idx\": 2004, \"val\": 0.64}, {\"col\": \"GDP per capita (% change)\", \"idx\": 2004, \"val\": 2.14}, {\"col\": \"Household final consumption expenditure per capita (% change)\", \"idx\": 2005, \"val\": 0.83}, {\"col\": \"Inflation, consumer prices (annual %)\", \"idx\": 2005, \"val\": 0.8}, {\"col\": \"GDP per capita (% change)\", \"idx\": 2005, \"val\": 2.38}, {\"col\": \"Household final consumption expenditure per capita (% change)\", \"idx\": 2006, \"val\": 0.85}, {\"col\": \"Inflation, consumer prices (annual %)\", \"idx\": 2006, \"val\": 1.17}, {\"col\": \"GDP per capita (% change)\", \"idx\": 2006, \"val\": 3.36}, {\"col\": \"Household final consumption expenditure per capita (% change)\", \"idx\": 2007, \"val\": 1.42}, {\"col\": \"Inflation, consumer prices (annual %)\", \"idx\": 2007, \"val\": 1.06}, {\"col\": \"GDP per capita (% change)\", \"idx\": 2007, \"val\": 3.21}, {\"col\": \"Household final consumption expenditure per capita (% change)\", \"idx\": 2008, \"val\": 0.23}, {\"col\": \"Inflation, consumer prices (annual %)\", \"idx\": 2008, \"val\": 0.73}, {\"col\": \"GDP per capita (% change)\", \"idx\": 2008, \"val\": 0.99}, {\"col\": \"Household final consumption expenditure per capita (% change)\", \"idx\": 2009, \"val\": -0.0}, {\"col\": \"Inflation, consumer prices (annual %)\", \"idx\": 2009, \"val\": 2.43}, {\"col\": \"GDP per capita (% change)\", \"idx\": 2009, \"val\": -3.34}, {\"col\": \"Household final consumption expenditure per capita (% change)\", \"idx\": 2010, \"val\": 0.58}, {\"col\": \"Inflation, consumer prices (annual %)\", \"idx\": 2010, \"val\": -0.48}, {\"col\": \"GDP per capita (% change)\", \"idx\": 2010, \"val\": 1.89}, {\"col\": \"Household final consumption expenditure per capita (% change)\", \"idx\": 2011, \"val\": -0.3}, {\"col\": \"Inflation, consumer prices (annual %)\", \"idx\": 2011, \"val\": 0.7}, {\"col\": \"GDP per capita (% change)\", \"idx\": 2011, \"val\": 0.68}, {\"col\": \"Household final consumption expenditure per capita (% change)\", \"idx\": 2012, \"val\": 1.52}, {\"col\": \"Inflation, consumer prices (annual %)\", \"idx\": 2012, \"val\": 0.23}, {\"col\": \"GDP per capita (% change)\", \"idx\": 2012, \"val\": -0.02}, {\"col\": \"Household final consumption expenditure per capita (% change)\", \"idx\": 2013, \"val\": 1.03}, {\"col\": \"Inflation, consumer prices (annual %)\", \"idx\": 2013, \"val\": -0.69}, {\"col\": \"GDP per capita (% change)\", \"idx\": 2013, \"val\": 0.62}]}], \"height\": 170, \"legends\": [{\"fill\": \"color\", \"offset\": 0, \"properties\": {}, \"title\": \"Index\"}], \"marks\": [{\"from\": {\"data\": \"table\", \"transform\": [{\"keys\": [\"data.idx\"], \"type\": \"facet\"}]}, \"marks\": [{\"properties\": {\"enter\": {\"fill\": {\"field\": \"data.col\", \"scale\": \"color\"}, \"width\": {\"band\": true, \"offset\": -1, \"scale\": \"pos\"}, \"x\": {\"field\": \"data.col\", \"scale\": \"pos\"}, \"y\": {\"field\": \"data.val\", \"scale\": \"y\"}, \"y2\": {\"scale\": \"y\", \"value\": 0}}}, \"type\": \"rect\"}], \"properties\": {\"enter\": {\"width\": {\"band\": true, \"scale\": \"x\"}, \"x\": {\"field\": \"key\", \"scale\": \"x\"}}}, \"scales\": [{\"domain\": {\"field\": \"data.col\"}, \"name\": \"pos\", \"range\": \"width\", \"type\": \"ordinal\"}], \"type\": \"group\"}], \"name\": \"Switzerland\", \"padding\": \"auto\", \"scales\": [{\"domain\": {\"data\": \"table\", \"field\": \"data.idx\"}, \"name\": \"x\", \"padding\": 0.2, \"range\": \"width\", \"type\": \"ordinal\"}, {\"domain\": {\"data\": \"table\", \"field\": \"data.val\"}, \"name\": \"y\", \"nice\": true, \"range\": \"height\"}, {\"domain\": {\"data\": \"table\", \"field\": \"data.col\"}, \"name\": \"color\", \"range\": [\"#fbb4ae\", \"#b3cde3\", \"#ccebc5\", \"#decbe4\", \"#fed9a6\", \"#ffffcc\", \"#e5d8bd\", \"#fddaec\", \"#f2f2f2\"], \"type\": \"ordinal\"}], \"width\": 700}, function(chart) {\n",
       "         chart({el: \"#vis5259d1160e13410c8f5ae36b08fa3485\"}).update();\n",
       "       });\n",
       "     };\n",
       "     _do_plot();\n",
       "   })();\n",
       "</script>\n",
       "<style>.vega canvas {width: 100%;}</style>\n",
       "        "
      ],
      "text/plain": [
       "<IPython.core.display.HTML object>"
      ]
     },
     "metadata": {},
     "output_type": "display_data"
    },
    {
     "data": {
      "text/html": [
       "<div id=\"vis701df61ac8174a80be9588b39b64a36f\"></div>\n",
       "<script>\n",
       "   ( function() {\n",
       "     var _do_plot = function() {\n",
       "       if (typeof vg === 'undefined') {\n",
       "         window.addEventListener('vincent_libs_loaded', _do_plot)\n",
       "         return;\n",
       "       }\n",
       "       vg.parse.spec({\"axes\": [{\"scale\": \"x\", \"title\": \"year\", \"type\": \"x\"}, {\"scale\": \"y\", \"title\": \"Percentage\", \"type\": \"y\"}], \"data\": [{\"name\": \"table\", \"values\": [{\"col\": \"Household final consumption expenditure per capita (% change)\", \"idx\": 1990, \"val\": 2.01}, {\"col\": \"Inflation, consumer prices (annual %)\", \"idx\": 1990, \"val\": 3.5}, {\"col\": \"GDP per capita (% change)\", \"idx\": 1990, \"val\": 2.33}, {\"col\": \"Household final consumption expenditure per capita (% change)\", \"idx\": 1991, \"val\": 0.59}, {\"col\": \"Inflation, consumer prices (annual %)\", \"idx\": 1991, \"val\": 3.38}, {\"col\": \"GDP per capita (% change)\", \"idx\": 1991, \"val\": 0.96}, {\"col\": \"Household final consumption expenditure per capita (% change)\", \"idx\": 1992, \"val\": 0.66}, {\"col\": \"Inflation, consumer prices (annual %)\", \"idx\": 1992, \"val\": 3.22}, {\"col\": \"GDP per capita (% change)\", \"idx\": 1992, \"val\": 1.1}, {\"col\": \"Household final consumption expenditure per capita (% change)\", \"idx\": 1993, \"val\": -0.45}, {\"col\": \"Inflation, consumer prices (annual %)\", \"idx\": 1993, \"val\": 2.37}, {\"col\": \"GDP per capita (% change)\", \"idx\": 1993, \"val\": -1.04}, {\"col\": \"Household final consumption expenditure per capita (% change)\", \"idx\": 1994, \"val\": 1.33}, {\"col\": \"Inflation, consumer prices (annual %)\", \"idx\": 1994, \"val\": 2.11}, {\"col\": \"GDP per capita (% change)\", \"idx\": 1994, \"val\": 1.97}, {\"col\": \"Household final consumption expenditure per capita (% change)\", \"idx\": 1995, \"val\": 1.39}, {\"col\": \"Inflation, consumer prices (annual %)\", \"idx\": 1995, \"val\": 1.66}, {\"col\": \"GDP per capita (% change)\", \"idx\": 1995, \"val\": 1.72}, {\"col\": \"Household final consumption expenditure per capita (% change)\", \"idx\": 1996, \"val\": 1.59}, {\"col\": \"Inflation, consumer prices (annual %)\", \"idx\": 1996, \"val\": 1.78}, {\"col\": \"GDP per capita (% change)\", \"idx\": 1996, \"val\": 1.03}, {\"col\": \"Household final consumption expenditure per capita (% change)\", \"idx\": 1997, \"val\": 0.28}, {\"col\": \"Inflation, consumer prices (annual %)\", \"idx\": 1997, \"val\": 2.0}, {\"col\": \"GDP per capita (% change)\", \"idx\": 1997, \"val\": 1.98}, {\"col\": \"Household final consumption expenditure per capita (% change)\", \"idx\": 1998, \"val\": 3.64}, {\"col\": \"Inflation, consumer prices (annual %)\", \"idx\": 1998, \"val\": 1.22}, {\"col\": \"GDP per capita (% change)\", \"idx\": 1998, \"val\": 3.18}, {\"col\": \"Household final consumption expenditure per capita (% change)\", \"idx\": 1999, \"val\": 2.97}, {\"col\": \"Inflation, consumer prices (annual %)\", \"idx\": 1999, \"val\": 0.6}, {\"col\": \"GDP per capita (% change)\", \"idx\": 1999, \"val\": 2.88}, {\"col\": \"Household final consumption expenditure per capita (% change)\", \"idx\": 2000, \"val\": 2.97}, {\"col\": \"Inflation, consumer prices (annual %)\", \"idx\": 2000, \"val\": 0.53}, {\"col\": \"GDP per capita (% change)\", \"idx\": 2000, \"val\": 3.17}, {\"col\": \"Household final consumption expenditure per capita (% change)\", \"idx\": 2001, \"val\": 1.8}, {\"col\": \"Inflation, consumer prices (annual %)\", \"idx\": 2001, \"val\": 1.7}, {\"col\": \"GDP per capita (% change)\", \"idx\": 2001, \"val\": 1.22}, {\"col\": \"Household final consumption expenditure per capita (% change)\", \"idx\": 2002, \"val\": 1.34}, {\"col\": \"Inflation, consumer prices (annual %)\", \"idx\": 2002, \"val\": 1.63}, {\"col\": \"GDP per capita (% change)\", \"idx\": 2002, \"val\": 0.39}, {\"col\": \"Household final consumption expenditure per capita (% change)\", \"idx\": 2003, \"val\": 0.79}, {\"col\": \"Inflation, consumer prices (annual %)\", \"idx\": 2003, \"val\": 1.92}, {\"col\": \"GDP per capita (% change)\", \"idx\": 2003, \"val\": 0.11}, {\"col\": \"Household final consumption expenditure per capita (% change)\", \"idx\": 2004, \"val\": 1.25}, {\"col\": \"Inflation, consumer prices (annual %)\", \"idx\": 2004, \"val\": 2.11}, {\"col\": \"GDP per capita (% change)\", \"idx\": 2004, \"val\": 2.03}, {\"col\": \"Household final consumption expenditure per capita (% change)\", \"idx\": 2005, \"val\": 1.74}, {\"col\": \"Inflation, consumer prices (annual %)\", \"idx\": 2005, \"val\": 2.13}, {\"col\": \"GDP per capita (% change)\", \"idx\": 2005, \"val\": 0.84}, {\"col\": \"Household final consumption expenditure per capita (% change)\", \"idx\": 2006, \"val\": 1.5}, {\"col\": \"Inflation, consumer prices (annual %)\", \"idx\": 2006, \"val\": 1.74}, {\"col\": \"GDP per capita (% change)\", \"idx\": 2006, \"val\": 1.66}, {\"col\": \"Household final consumption expenditure per capita (% change)\", \"idx\": 2007, \"val\": 1.86}, {\"col\": \"Inflation, consumer prices (annual %)\", \"idx\": 2007, \"val\": 1.68}, {\"col\": \"GDP per capita (% change)\", \"idx\": 2007, \"val\": 1.73}, {\"col\": \"Household final consumption expenditure per capita (% change)\", \"idx\": 2008, \"val\": -0.12}, {\"col\": \"Inflation, consumer prices (annual %)\", \"idx\": 2008, \"val\": 1.49}, {\"col\": \"GDP per capita (% change)\", \"idx\": 2008, \"val\": -0.36}, {\"col\": \"Household final consumption expenditure per capita (% change)\", \"idx\": 2009, \"val\": -0.3}, {\"col\": \"Inflation, consumer prices (annual %)\", \"idx\": 2009, \"val\": 2.81}, {\"col\": \"GDP per capita (% change)\", \"idx\": 2009, \"val\": -3.44}, {\"col\": \"Household final consumption expenditure per capita (% change)\", \"idx\": 2010, \"val\": 1.34}, {\"col\": \"Inflation, consumer prices (annual %)\", \"idx\": 2010, \"val\": 0.09}, {\"col\": \"GDP per capita (% change)\", \"idx\": 2010, \"val\": 1.46}, {\"col\": \"Household final consumption expenditure per capita (% change)\", \"idx\": 2011, \"val\": -0.01}, {\"col\": \"Inflation, consumer prices (annual %)\", \"idx\": 2011, \"val\": 1.53}, {\"col\": \"GDP per capita (% change)\", \"idx\": 2011, \"val\": 1.59}, {\"col\": \"Household final consumption expenditure per capita (% change)\", \"idx\": 2012, \"val\": -0.7}, {\"col\": \"Inflation, consumer prices (annual %)\", \"idx\": 2012, \"val\": 2.12}, {\"col\": \"GDP per capita (% change)\", \"idx\": 2012, \"val\": -0.3}, {\"col\": \"Household final consumption expenditure per capita (% change)\", \"idx\": 2013, \"val\": 0.02}, {\"col\": \"Inflation, consumer prices (annual %)\", \"idx\": 2013, \"val\": 1.96}, {\"col\": \"GDP per capita (% change)\", \"idx\": 2013, \"val\": 0.1}]}], \"height\": 170, \"legends\": [{\"fill\": \"color\", \"offset\": 0, \"properties\": {}, \"title\": \"Index\"}], \"marks\": [{\"from\": {\"data\": \"table\", \"transform\": [{\"keys\": [\"data.idx\"], \"type\": \"facet\"}]}, \"marks\": [{\"properties\": {\"enter\": {\"fill\": {\"field\": \"data.col\", \"scale\": \"color\"}, \"width\": {\"band\": true, \"offset\": -1, \"scale\": \"pos\"}, \"x\": {\"field\": \"data.col\", \"scale\": \"pos\"}, \"y\": {\"field\": \"data.val\", \"scale\": \"y\"}, \"y2\": {\"scale\": \"y\", \"value\": 0}}}, \"type\": \"rect\"}], \"properties\": {\"enter\": {\"width\": {\"band\": true, \"scale\": \"x\"}, \"x\": {\"field\": \"key\", \"scale\": \"x\"}}}, \"scales\": [{\"domain\": {\"field\": \"data.col\"}, \"name\": \"pos\", \"range\": \"width\", \"type\": \"ordinal\"}], \"type\": \"group\"}], \"name\": \"France\", \"padding\": \"auto\", \"scales\": [{\"domain\": {\"data\": \"table\", \"field\": \"data.idx\"}, \"name\": \"x\", \"padding\": 0.2, \"range\": \"width\", \"type\": \"ordinal\"}, {\"domain\": {\"data\": \"table\", \"field\": \"data.val\"}, \"name\": \"y\", \"nice\": true, \"range\": \"height\"}, {\"domain\": {\"data\": \"table\", \"field\": \"data.col\"}, \"name\": \"color\", \"range\": [\"#fbb4ae\", \"#b3cde3\", \"#ccebc5\", \"#decbe4\", \"#fed9a6\", \"#ffffcc\", \"#e5d8bd\", \"#fddaec\", \"#f2f2f2\"], \"type\": \"ordinal\"}], \"width\": 700}, function(chart) {\n",
       "         chart({el: \"#vis701df61ac8174a80be9588b39b64a36f\"}).update();\n",
       "       });\n",
       "     };\n",
       "     _do_plot();\n",
       "   })();\n",
       "</script>\n",
       "<style>.vega canvas {width: 100%;}</style>\n",
       "        "
      ],
      "text/plain": [
       "<IPython.core.display.HTML object>"
      ]
     },
     "metadata": {},
     "output_type": "display_data"
    }
   ],
   "source": [
    "for country in ['Australia', 'India', 'Switzerland', 'France']:\n",
    "    grouped = vincent.GroupedBar(full_df.loc[country][['Household final consumption expenditure per capita (% change)','Inflation, consumer prices (annual %)','GDP per capita (% change)']])\n",
    "    grouped.width = 700\n",
    "    grouped.height = 170\n",
    "    grouped.colors(brew='Pastel1')\n",
    "    grouped.axis_titles(x='year', y='Percentage',)\n",
    "    grouped.legend(title='Index')\n",
    "    grouped.name = country\n",
    "    grouped.display()\n"
   ]
  },
  {
   "cell_type": "code",
   "execution_count": null,
   "metadata": {
    "collapsed": true
   },
   "outputs": [],
   "source": []
  }
 ],
 "metadata": {
  "anaconda-cloud": {},
  "kernelspec": {
   "display_name": "Python [conda env:py35]",
   "language": "python",
   "name": "conda-env-py35-py"
  },
  "language_info": {
   "codemirror_mode": {
    "name": "ipython",
    "version": 3
   },
   "file_extension": ".py",
   "mimetype": "text/x-python",
   "name": "python",
   "nbconvert_exporter": "python",
   "pygments_lexer": "ipython3",
   "version": "3.5.2"
  }
 },
 "nbformat": 4,
 "nbformat_minor": 1
}
